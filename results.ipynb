{
  "nbformat": 4,
  "nbformat_minor": 0,
  "metadata": {
    "colab": {
      "name": "results.ipynb",
      "provenance": [],
      "collapsed_sections": []
    },
    "kernelspec": {
      "display_name": "Python 3",
      "name": "python3"
    },
    "accelerator": "GPU"
  },
  "cells": [
    {
      "cell_type": "markdown",
      "metadata": {
        "id": "nozuaK3_CKjw"
      },
      "source": [
        "[![Open In Colab](https://colab.research.google.com/assets/colab-badge.svg)](https://colab.research.google.com/github/Neuvork/Engeneering-thesis/blob/master/results.ipynb)"
      ]
    },
    {
      "cell_type": "code",
      "metadata": {
        "id": "U5jcZnINFcRT"
      },
      "source": [
        "! git clone https://<username>:<password>@github.com/Neuvork/Engeneeringthesis.git --single-branch --branch conv"
      ],
      "execution_count": null,
      "outputs": []
    },
    {
      "cell_type": "code",
      "metadata": {
        "id": "tB_2jKGqwWes"
      },
      "source": [
        "#from google.colab import drive\n",
        "#drive.mount('/content/drive')"
      ],
      "execution_count": null,
      "outputs": []
    },
    {
      "cell_type": "code",
      "metadata": {
        "id": "yQIf2yvLB9pn"
      },
      "source": [
        "#DOPISAC CMA\n",
        "#ZROBIC REKURENCYJNY ES\n",
        "import matplotlib.pyplot as plt\n",
        "import numpy as np\n",
        "from scipy.linalg import sqrtm\n",
        "import time\n",
        "from IPython.display import clear_output\n",
        "import copy\n",
        "import cupy as cp\n",
        "import tensorflow_datasets as tfds\n",
        "import tensorflow as tf\n",
        "from Engeneeringthesis.sigmas import Sigmas_Neural_Network\n",
        "from Engeneeringthesis.NeuralNetwork import Neural_Network\n",
        "from Engeneeringthesis.Cma_es import CMA_ES\n",
        "from Engeneeringthesis.Caged_CMA_ES import Caged_CMA_ES\n",
        "from Engeneeringthesis.Logs import Logs\n",
        "from tensorflow.keras.models import Model\n",
        "from tensorflow.keras import layers, losses\n",
        "from tensorflow.keras.datasets import mnist"
      ],
      "execution_count": 1,
      "outputs": []
    },
    {
      "cell_type": "code",
      "metadata": {
        "id": "yl9rVITDlQyH"
      },
      "source": [
        "!nvidia-smi"
      ],
      "execution_count": null,
      "outputs": []
    },
    {
      "cell_type": "code",
      "metadata": {
        "id": "DU0va8DSXlK5"
      },
      "source": [
        "mempool = cp.get_default_memory_pool()\n",
        "pinned_mempool = cp.get_default_pinned_memory_pool()\n",
        "def cuda_memory_clear():\n",
        "    mempool.free_all_blocks()\n",
        "    pinned_mempool.free_all_blocks()          "
      ],
      "execution_count": 3,
      "outputs": []
    },
    {
      "cell_type": "code",
      "metadata": {
        "id": "RGdtEleAayvp"
      },
      "source": [
        "no_debug = 1\n",
        "basic_debug_mode = 2\n",
        "super_debug_mode = 3\n",
        "only_interesting = 5\n",
        "DEBUG_MODE = only_interesting"
      ],
      "execution_count": 4,
      "outputs": []
    },
    {
      "cell_type": "code",
      "metadata": {
        "id": "Y6SmN-lZSUu_"
      },
      "source": [
        "train_ds_mnist = tfds.load(\"mnist\", split = \"train\", shuffle_files=True, batch_size=-1)\n",
        "test_ds_mnist = tfds.load(\"mnist\", split = \"test\", shuffle_files=True, batch_size=-1)\n",
        "\n",
        "train_ds_mnist = tfds.as_numpy(train_ds_mnist)\n",
        "test_ds_mnist = tfds.as_numpy(test_ds_mnist)\n",
        "\n",
        "train_ds_mnist = {\"image\" : cp.array(train_ds_mnist[\"image\"]/255., dtype=cp.float32), \"label\" : cp.array(train_ds_mnist[\"label\"]) }\n",
        "test_ds_mnist = {\"image\" : cp.array(test_ds_mnist[\"image\"]/255., dtype=cp.float32), \"label\" : cp.array(test_ds_mnist[\"label\"]) }"
      ],
      "execution_count": 5,
      "outputs": []
    },
    {
      "cell_type": "code",
      "metadata": {
        "id": "p2hy9403NPFa"
      },
      "source": [
        "train_ds_mnist['image'] = train_ds_mnist['image'].reshape((60000, 1, 28, 28))"
      ],
      "execution_count": 6,
      "outputs": []
    },
    {
      "cell_type": "code",
      "metadata": {
        "id": "0i2VqaIb-Wyh"
      },
      "source": [
        "def evaluate_population(population, train_ds):\n",
        "    create_input_time = 0\n",
        "    preds_time = 0\n",
        "    points_count_time = 0\n",
        "    j  = 0\n",
        "    train_dataset = {'image' : train_ds['image'][:int(0.8*len(train_ds['image']))],\n",
        "                      'label' : train_ds['label'][:int(0.8*len(train_ds['image']))] }\n",
        "    validation_dataset = {'image' : train_ds['image'][int(0.8*len(train_ds['image'])):],\n",
        "                      'label' : train_ds['label'][int(0.8*len(train_ds['image'])):] }\n",
        "    if DEBUG_MODE % basic_debug_mode == 0:\n",
        "      print(\"___EVALUATE_POPULATION_START\")\n",
        "    train_scores = cp.zeros(population.population_size, dtype = cp.uint32)\n",
        "    for image, label in zip(cp.array(train_dataset['image']), cp.array(train_dataset['label'])):\n",
        "        start = time.time()\n",
        "        create_input_time += time.time() - start\n",
        "        start = time.time()\n",
        "        preds = population.forward(image)\n",
        "        preds_time += time.time() - start\n",
        "        start = time.time()\n",
        "        train_scores += preds == label\n",
        "        points_count_time += time.time() - start\n",
        "        j += 1\n",
        "\n",
        "    validation_scores = cp.zeros(population.population_size, dtype = cp.uint32)\n",
        "    for image, label in zip(cp.array(validation_dataset['image']), cp.array(validation_dataset['label'])):\n",
        "        start = time.time()\n",
        "        create_input_time += time.time() - start\n",
        "        start = time.time()\n",
        "        preds = population.forward(image)\n",
        "        preds_time += time.time() - start\n",
        "        start = time.time()\n",
        "        validation_scores += preds == label\n",
        "        points_count_time += time.time() - start\n",
        "        j += 1\n",
        "      \n",
        "    file = open(\"scores.txt\", \"a\")\n",
        "    file.write(\"\\n train classified: \" + str(cp.max(train_scores)) \n",
        "                + \", train acc: \" + str(cp.max(train_scores/len(train_scores))) \n",
        "                + \", len: \" + str(len(train_scores))\n",
        "                + \", shape: \" + str(train_scores.shape)\n",
        "                + \"\\n\" )\n",
        "    file.close()\n",
        "    return train_scores/len(train_dataset['image']), validation_scores/len(validation_dataset['image'])"
      ],
      "execution_count": 7,
      "outputs": []
    },
    {
      "cell_type": "code",
      "metadata": {
        "id": "qC4DvHDvSbyJ"
      },
      "source": [
        "!nvidia-smi"
      ],
      "execution_count": null,
      "outputs": []
    },
    {
      "cell_type": "code",
      "metadata": {
        "id": "kysKh3qG1ra1"
      },
      "source": [
        "def custom_plot(ax, data):\n",
        "  XD = np.array([1,2,3,4,5])\n",
        "  ax.plot(XD)"
      ],
      "execution_count": 9,
      "outputs": []
    },
    {
      "cell_type": "code",
      "metadata": {
        "id": "3i-Agjvi1qPv"
      },
      "source": [
        "logs = Logs([('matrix','covariance'),('vector','sigma'),\n",
        "                      ('vector','isotropic'),('vector','anisotropic'),('vector','mean'),\n",
        "                      ('number','best-train-score'), ('number','best-validation-score')])"
      ],
      "execution_count": null,
      "outputs": []
    },
    {
      "cell_type": "code",
      "metadata": {
        "id": "pwXWMRBrjoj2"
      },
      "source": [
        "logs = Logs([('matrix','covariance'),('population', 'population'),('number','sigma'),\n",
        "                      ('vector','isotropic'),('vector','anisotropic'),('vector','mean'),\n",
        "                      ('number','best-train-score'), ('number','best-validation-score'),\n",
        "                       ('vector', 'mean_act - mena_prev')])"
      ],
      "execution_count": null,
      "outputs": []
    },
    {
      "cell_type": "code",
      "metadata": {
        "id": "3G-io99VNezd"
      },
      "source": [
        "dimensionalities = []\n",
        "for i in range(784):\n",
        "  dimensionalities.append(10)\n",
        "number_of_cages = 784"
      ],
      "execution_count": 12,
      "outputs": []
    },
    {
      "cell_type": "code",
      "metadata": {
        "id": "e2R8qHtuQd1A"
      },
      "source": [
        "POPULATION_SIZE = 64\n",
        "#input size do zmiany\n",
        "population = Neural_Network(POPULATION_SIZE,  (1, 28, 28), \n",
        "                            [\n",
        "                             ['conv', (1, 3, 3), [1.,1.]],\n",
        "                             ['linear', 10, [1.,1.]]\n",
        "                             ],\n",
        "                            cage_dimensionalities=np.array(dimensionalities))"
      ],
      "execution_count": null,
      "outputs": []
    },
    {
      "cell_type": "code",
      "metadata": {
        "id": "px2h9D5iCFwZ"
      },
      "source": [
        "logs = Logs([('matrix','covariance'),('population', 'population'),('number','sigma'),\n",
        "                      ('vector','isotropic'),('vector','anisotropic'),('vector','mean'),\n",
        "                      ('number','best-train-score'), ('number','best-validation-score'),\n",
        "                       ('vector', 'mean_act - mena_prev')])"
      ],
      "execution_count": null,
      "outputs": []
    },
    {
      "cell_type": "code",
      "metadata": {
        "id": "NZOmRD_nICsz"
      },
      "source": [
        "classifier = CMA_ES(population, .01, evaluate_population, logs)"
      ],
      "execution_count": null,
      "outputs": []
    },
    {
      "cell_type": "code",
      "metadata": {
        "id": "d2dgy2JkII5_"
      },
      "source": [
        "classifier.fit(train_ds_mnist, POPULATION_SIZE//2, POPULATION_SIZE, 4)"
      ],
      "execution_count": null,
      "outputs": []
    },
    {
      "cell_type": "code",
      "metadata": {
        "id": "LlcmD-Dgab3z"
      },
      "source": [
        "POPULATION_SIZE = 64\n",
        "#input size do zmiany\n",
        "population = Neural_Network(POPULATION_SIZE,  (1, 28, 28), \n",
        "                            [\n",
        "                             ['linear', 10, [1.,1.]]\n",
        "                             ],\n",
        "                            cage_dimensionalities=np.array(dimensionalities))"
      ],
      "execution_count": null,
      "outputs": []
    },
    {
      "cell_type": "code",
      "metadata": {
        "id": "52hKmaoKab6-"
      },
      "source": [
        "classifier = CMA_ES(population, .01, evaluate_population, logs)\n",
        "classifier.fit(train_ds_mnist, POPULATION_SIZE//2, POPULATION_SIZE, 4)"
      ],
      "execution_count": null,
      "outputs": []
    },
    {
      "cell_type": "code",
      "metadata": {
        "id": "9O0iFZi4axzS"
      },
      "source": [
        "logs = Logs([('matrix','covariance'),('vector','sigma'),\n",
        "                      ('vector','isotropic'),('vector','anisotropic'),('vector','mean'),\n",
        "                      ('number','best-train-score'), ('number','best-validation-score')])"
      ],
      "execution_count": null,
      "outputs": []
    },
    {
      "cell_type": "code",
      "metadata": {
        "id": "K2wZ080Cat82"
      },
      "source": [
        "POPULATION_SIZE = 64\n",
        "#input size do zmiany\n",
        "population = Neural_Network(POPULATION_SIZE,  (1, 28, 28), \n",
        "                            [\n",
        "                             ['linear', 10, [1.,1.]]\n",
        "                             ],\n",
        "                            cage_dimensionalities=np.array(dimensionalities))"
      ],
      "execution_count": null,
      "outputs": []
    },
    {
      "cell_type": "code",
      "metadata": {
        "id": "5iDa939zacHJ"
      },
      "source": [
        "classifier = Caged_CMA_ES(population, .01, evaluate_population, logs, number_of_cages, dimensionalities)\n",
        "classifier.fit(train_ds_mnist, POPULATION_SIZE//2, POPULATION_SIZE, 4)"
      ],
      "execution_count": null,
      "outputs": []
    },
    {
      "cell_type": "code",
      "metadata": {
        "id": "N1dOZizNcW57"
      },
      "source": [],
      "execution_count": null,
      "outputs": []
    }
  ]
}