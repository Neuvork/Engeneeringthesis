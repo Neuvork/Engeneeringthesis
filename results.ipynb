{
  "nbformat": 4,
  "nbformat_minor": 0,
  "metadata": {
    "colab": {
      "name": "results.ipynb",
      "provenance": [],
      "collapsed_sections": []
    },
    "kernelspec": {
      "display_name": "Python 3",
      "name": "python3"
    },
    "accelerator": "GPU"
  },
  "cells": [
    {
      "cell_type": "markdown",
      "metadata": {
        "id": "nozuaK3_CKjw"
      },
      "source": [
        "[![Open In Colab](https://colab.research.google.com/assets/colab-badge.svg)](https://colab.research.google.com/github/Neuvork/Engeneering-thesis/blob/master/results.ipynb)"
      ]
    },
    {
      "cell_type": "code",
      "metadata": {
        "id": "U5jcZnINFcRT"
      },
      "source": [
        "! git clone https://<username>:<password>@github.com/Neuvork/Engeneeringthesis.git --single-branch --branch cmaes"
      ],
      "execution_count": null,
      "outputs": []
    },
    {
      "cell_type": "code",
      "metadata": {
        "id": "yQIf2yvLB9pn"
      },
      "source": [
        "#DOPISAC CMA\n",
        "#ZROBIC REKURENCYJNY ES\n",
        "import matplotlib.pyplot as plt\n",
        "import numpy as np\n",
        "from scipy.linalg import sqrtm\n",
        "import time\n",
        "from IPython.display import clear_output\n",
        "import copy\n",
        "import cupy as cp\n",
        "import tensorflow_datasets as tfds\n",
        "import tensorflow as tf\n",
        "from Engeneeringthesis.sigmas import Sigmas_Neural_Network\n",
        "from Engeneeringthesis.NeuralNetwork import Neural_Network\n",
        "from Engeneeringthesis.Cma_es import CMA_ES"
      ],
      "execution_count": null,
      "outputs": []
    },
    {
      "cell_type": "code",
      "metadata": {
        "id": "yl9rVITDlQyH"
      },
      "source": [
        "!nvidia-smi"
      ],
      "execution_count": null,
      "outputs": []
    },
    {
      "cell_type": "code",
      "metadata": {
        "id": "DU0va8DSXlK5"
      },
      "source": [
        "mempool = cp.get_default_memory_pool()\n",
        "pinned_mempool = cp.get_default_pinned_memory_pool()\n",
        "def cuda_memory_clear():\n",
        "    mempool.free_all_blocks()\n",
        "    pinned_mempool.free_all_blocks()          "
      ],
      "execution_count": null,
      "outputs": []
    },
    {
      "cell_type": "code",
      "metadata": {
        "id": "RGdtEleAayvp"
      },
      "source": [
        "no_debug = 1\n",
        "basic_debug_mode = 2\n",
        "super_debug_mode = 3\n",
        "only_interesting = 5\n",
        "DEBUG_MODE = only_interesting"
      ],
      "execution_count": null,
      "outputs": []
    },
    {
      "cell_type": "code",
      "metadata": {
        "id": "Y6SmN-lZSUu_"
      },
      "source": [
        "train_ds_mnist = tfds.load(\"mnist\", split = \"train\", shuffle_files=True, batch_size=-1)\n",
        "test_ds_mnist = tfds.load(\"mnist\", split = \"test\", shuffle_files=True, batch_size=-1)\n",
        "\n",
        "train_ds_mnist = tfds.as_numpy(train_ds_mnist)\n",
        "test_ds_mnist = tfds.as_numpy(test_ds_mnist)\n",
        "\n",
        "train_ds_mnist = {\"image\" : cp.array(train_ds_mnist[\"image\"]/255., dtype=cp.float32), \"label\" : cp.array(train_ds_mnist[\"label\"]) }\n",
        "test_ds_mnist = {\"image\" : cp.array(test_ds_mnist[\"image\"]/255., dtype=cp.float32), \"label\" : cp.array(test_ds_mnist[\"label\"]) }"
      ],
      "execution_count": null,
      "outputs": []
    },
    {
      "cell_type": "code",
      "metadata": {
        "id": "0i2VqaIb-Wyh"
      },
      "source": [
        "def evaluate_population(population, train_ds):\n",
        "    create_input_time = 0\n",
        "    preds_time = 0\n",
        "    points_count_time = 0\n",
        "    j  = 0\n",
        "    if DEBUG_MODE % basic_debug_mode == 0:\n",
        "      print(\"___EVALUATE_POPULATION_START\")\n",
        "    #scores = np.zeros(population.layers[0][1].shape[0], dtype = np.uint32)\n",
        "    scores = cp.zeros(population.population_size, dtype = cp.uint32)\n",
        "    for image, label in zip(cp.array(train_ds['image']), cp.array(train_ds['label'])):\n",
        "        start = time.time()\n",
        "        image = image.flatten()\n",
        "        create_input_time += time.time() - start\n",
        "        start = time.time()\n",
        "        preds = population.forward(image)\n",
        "        preds_time += time.time() - start\n",
        "        start = time.time()\n",
        "        #scores += cp.asnumpy(preds == label)\n",
        "        scores += preds == label\n",
        "        points_count_time += time.time() - start\n",
        "        j += 1\n",
        "      \n",
        "    if DEBUG_MODE % basic_debug_mode == 0:\n",
        "      print(\"___EVALUATE_POPULATION_STOP\", \"create_input_time: \", create_input_time, \"preds_time:\", preds_time,\n",
        "          \"points_count_time: \", points_count_time, \"\\n best result: \", np.max(cp.asnumpy( scores)),\n",
        "          \"mean socre: \", np.mean(cp.asnumpy( scores)), \"min score: \", np.min(cp.asnumpy( scores))) \n",
        "    if DEBUG_MODE % only_interesting == 0:\n",
        "      print(\"best result: \", np.max(cp.asnumpy( scores)), \"mean socre: \", np.mean(cp.asnumpy( scores)), \"min score: \", np.min(cp.asnumpy( scores)))\n",
        "\n",
        "    return scores"
      ],
      "execution_count": null,
      "outputs": []
    },
    {
      "cell_type": "code",
      "metadata": {
        "id": "qC4DvHDvSbyJ"
      },
      "source": [
        "!nvidia-smi"
      ],
      "execution_count": null,
      "outputs": []
    },
    {
      "cell_type": "code",
      "metadata": {
        "id": "llmQDiFlwQui"
      },
      "source": [
        "POPULATION_SIZE = 512\n",
        "#input size do zmiany\n",
        "population = Neural_Network(POPULATION_SIZE,  (28*28, 1, 1), [['linear', 10, [1.,1.]]])\n",
        "sigmas = Sigmas_Neural_Network(POPULATION_SIZE,  (28*28, 1, 1), [['linear', 10, [1.,1.]]])"
      ],
      "execution_count": null,
      "outputs": []
    },
    {
      "cell_type": "code",
      "metadata": {
        "id": "NZOmRD_nICsz"
      },
      "source": [
        "classifier = CMA_ES(population, .05, evaluate_population)"
      ],
      "execution_count": null,
      "outputs": []
    },
    {
      "cell_type": "code",
      "metadata": {
        "id": "d2dgy2JkII5_"
      },
      "source": [
        "classifier.fit(train_ds_mnist, 256, 512, 500)"
      ],
      "execution_count": null,
      "outputs": []
    },
    {
      "cell_type": "code",
      "metadata": {
        "id": "4CkLTVOc-JgP"
      },
      "source": [
        ""
      ],
      "execution_count": null,
      "outputs": []
    }
  ]
}