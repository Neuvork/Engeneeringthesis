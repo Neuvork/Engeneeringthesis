{
  "nbformat": 4,
  "nbformat_minor": 0,
  "metadata": {
    "colab": {
      "name": "results.ipynb",
      "provenance": [],
      "collapsed_sections": []
    },
    "kernelspec": {
      "display_name": "Python 3",
      "name": "python3"
    },
    "accelerator": "GPU"
  },
  "cells": [
    {
      "cell_type": "markdown",
      "metadata": {
        "id": "nozuaK3_CKjw",
        "colab_type": "text"
      },
      "source": [
        "[![Open In Colab](https://colab.research.google.com/assets/colab-badge.svg)](https://colab.research.google.com/github/Neuvork/Engeneering-thesis/blob/master/results.ipynb)"
      ]
    },
    {
      "cell_type": "code",
      "metadata": {
        "id": "xvTXHM8KUMK3",
        "colab_type": "code",
        "colab": {}
      },
      "source": [
        "import os"
      ],
      "execution_count": null,
      "outputs": []
    },
    {
      "cell_type": "code",
      "metadata": {
        "id": "dSBqUujGUFU5",
        "colab_type": "code",
        "colab": {}
      },
      "source": [
        "gitUser = \"\"\n",
        "gitPassword = \"\""
      ],
      "execution_count": null,
      "outputs": []
    },
    {
      "cell_type": "code",
      "metadata": {
        "id": "VsGYASmFUFZO",
        "colab_type": "code",
        "colab": {}
      },
      "source": [
        "command = \"https://\" + gitUser + \":\" + gitPassword + @github.com/Neuvork/Engeneering-thesis.git\n",
        "os.system(command)"
      ],
      "execution_count": null,
      "outputs": []
    },
    {
      "cell_type": "code",
      "metadata": {
        "id": "yQIf2yvLB9pn",
        "colab_type": "code",
        "colab": {}
      },
      "source": [
        "#DOPISAC CMA\n",
        "#ZROBIC REKURENCYJNY ES\n",
        "import matplotlib.pyplot as plt\n",
        "import numpy as np\n",
        "import time\n",
        "from IPython.display import clear_output\n",
        "import copy\n",
        "import cupy as cp\n",
        "import tensorflow_datasets as tfds\n",
        "import tensorflow as tf\n",
        "from Engeneeringthesis.sigmas import Sigmas_Neural_Network\n",
        "from Engeneeringthesis.NeuralNetwork import Neural_Network"
      ],
      "execution_count": 14,
      "outputs": []
    },
    {
      "cell_type": "code",
      "metadata": {
        "id": "yl9rVITDlQyH",
        "colab_type": "code",
        "colab": {
          "base_uri": "https://localhost:8080/",
          "height": 357
        },
        "outputId": "03faca99-cb07-4fc0-e772-c76ad5994a9e"
      },
      "source": [
        "!nvidia-smi"
      ],
      "execution_count": 4,
      "outputs": [
        {
          "output_type": "stream",
          "text": [
            "Mon Sep 14 18:58:22 2020       \n",
            "+-----------------------------------------------------------------------------+\n",
            "| NVIDIA-SMI 450.66       Driver Version: 418.67       CUDA Version: 10.1     |\n",
            "|-------------------------------+----------------------+----------------------+\n",
            "| GPU  Name        Persistence-M| Bus-Id        Disp.A | Volatile Uncorr. ECC |\n",
            "| Fan  Temp  Perf  Pwr:Usage/Cap|         Memory-Usage | GPU-Util  Compute M. |\n",
            "|                               |                      |               MIG M. |\n",
            "|===============================+======================+======================|\n",
            "|   0  Tesla P100-PCIE...  Off  | 00000000:00:04.0 Off |                    0 |\n",
            "| N/A   37C    P0    27W / 250W |      0MiB / 16280MiB |      0%      Default |\n",
            "|                               |                      |                 ERR! |\n",
            "+-------------------------------+----------------------+----------------------+\n",
            "                                                                               \n",
            "+-----------------------------------------------------------------------------+\n",
            "| Processes:                                                                  |\n",
            "|  GPU   GI   CI        PID   Type   Process name                  GPU Memory |\n",
            "|        ID   ID                                                   Usage      |\n",
            "|=============================================================================|\n",
            "|  No running processes found                                                 |\n",
            "+-----------------------------------------------------------------------------+\n"
          ],
          "name": "stdout"
        }
      ]
    },
    {
      "cell_type": "code",
      "metadata": {
        "id": "01Uj92TUsouq",
        "colab_type": "code",
        "colab": {
          "base_uri": "https://localhost:8080/",
          "height": 462
        },
        "outputId": "0a3c3a66-53b4-4530-f6c2-3bb6af49fbf0"
      },
      "source": [
        "#classically trained network \n",
        "(ds_train, ds_test), ds_info = tfds.load(\n",
        "    'cifar10',\n",
        "    split=['train', 'test'],\n",
        "    shuffle_files=True,\n",
        "    as_supervised=True,\n",
        "    with_info=True,\n",
        ")\n",
        "\n",
        "def normalize_img(image, label):\n",
        "  \"\"\"Normalizes images: `uint8` -> `float32`.\"\"\"\n",
        "  return tf.cast(image, tf.float32) / 255., label\n",
        "\n",
        "ds_train = ds_train.map(\n",
        "    normalize_img, num_parallel_calls=tf.data.experimental.AUTOTUNE)\n",
        "ds_train = ds_train.cache()\n",
        "ds_train = ds_train.shuffle(ds_info.splits['train'].num_examples)\n",
        "ds_train = ds_train.batch(256)\n",
        "ds_train = ds_train.prefetch(tf.data.experimental.AUTOTUNE)\n",
        "\n",
        "ds_test = ds_test.map(\n",
        "    normalize_img, num_parallel_calls=tf.data.experimental.AUTOTUNE)\n",
        "ds_test = ds_test.batch(256)\n",
        "ds_test = ds_test.cache()\n",
        "ds_test = ds_test.prefetch(tf.data.experimental.AUTOTUNE)\n",
        "\n",
        "model = tf.keras.models.Sequential([\n",
        "  tf.keras.layers.Flatten(input_shape=(32, 32, 3)),\n",
        "  tf.keras.layers.Dense(10, activation='softmax')\n",
        "])\n",
        "model.compile(\n",
        "    loss='sparse_categorical_crossentropy',\n",
        "    optimizer=tf.keras.optimizers.Adam(0.001),\n",
        "    metrics=['accuracy'],\n",
        ")\n",
        "\n",
        "model.fit(\n",
        "    ds_train,\n",
        "    epochs=12,\n",
        "    validation_data=ds_test,\n",
        ")"
      ],
      "execution_count": 5,
      "outputs": [
        {
          "output_type": "stream",
          "text": [
            "Epoch 1/12\n",
            "196/196 [==============================] - 3s 13ms/step - loss: 1.9531 - accuracy: 0.3051 - val_loss: 1.8736 - val_accuracy: 0.3367\n",
            "Epoch 2/12\n",
            "196/196 [==============================] - 1s 3ms/step - loss: 1.8252 - accuracy: 0.3622 - val_loss: 1.8478 - val_accuracy: 0.3515\n",
            "Epoch 3/12\n",
            "196/196 [==============================] - 1s 3ms/step - loss: 1.7996 - accuracy: 0.3718 - val_loss: 1.7882 - val_accuracy: 0.3701\n",
            "Epoch 4/12\n",
            "196/196 [==============================] - 1s 3ms/step - loss: 1.7882 - accuracy: 0.3781 - val_loss: 1.8090 - val_accuracy: 0.3613\n",
            "Epoch 5/12\n",
            "196/196 [==============================] - 1s 3ms/step - loss: 1.7644 - accuracy: 0.3863 - val_loss: 1.7699 - val_accuracy: 0.3854\n",
            "Epoch 6/12\n",
            "196/196 [==============================] - 1s 3ms/step - loss: 1.7515 - accuracy: 0.3927 - val_loss: 1.7861 - val_accuracy: 0.3724\n",
            "Epoch 7/12\n",
            "196/196 [==============================] - 1s 3ms/step - loss: 1.7539 - accuracy: 0.3926 - val_loss: 1.7656 - val_accuracy: 0.3841\n",
            "Epoch 8/12\n",
            "196/196 [==============================] - 1s 3ms/step - loss: 1.7430 - accuracy: 0.3956 - val_loss: 1.7670 - val_accuracy: 0.3822\n",
            "Epoch 9/12\n",
            "196/196 [==============================] - 1s 3ms/step - loss: 1.7378 - accuracy: 0.3980 - val_loss: 1.7643 - val_accuracy: 0.3838\n",
            "Epoch 10/12\n",
            "196/196 [==============================] - 1s 3ms/step - loss: 1.7283 - accuracy: 0.4036 - val_loss: 1.7925 - val_accuracy: 0.3803\n",
            "Epoch 11/12\n",
            "196/196 [==============================] - 1s 3ms/step - loss: 1.7253 - accuracy: 0.4046 - val_loss: 1.7614 - val_accuracy: 0.3741\n",
            "Epoch 12/12\n",
            "196/196 [==============================] - 1s 3ms/step - loss: 1.7280 - accuracy: 0.4023 - val_loss: 1.7525 - val_accuracy: 0.3942\n"
          ],
          "name": "stdout"
        },
        {
          "output_type": "execute_result",
          "data": {
            "text/plain": [
              "<tensorflow.python.keras.callbacks.History at 0x7f986036b2e8>"
            ]
          },
          "metadata": {
            "tags": []
          },
          "execution_count": 5
        }
      ]
    },
    {
      "cell_type": "code",
      "metadata": {
        "id": "o_D9QG_Ss4P9",
        "colab_type": "code",
        "colab": {}
      },
      "source": [
        "best_indivudal_numpy = np.array(model.layers[1].get_weights()[0])\n",
        "best_indivudal_cupy = cp.array(model.layers[1].get_weights()[0])"
      ],
      "execution_count": 6,
      "outputs": []
    },
    {
      "cell_type": "code",
      "metadata": {
        "id": "DU0va8DSXlK5",
        "colab_type": "code",
        "colab": {}
      },
      "source": [
        "mempool = cp.get_default_memory_pool()\n",
        "pinned_mempool = cp.get_default_pinned_memory_pool()\n",
        "def cuda_memory_clear():\n",
        "    print(\"_total_bytes_before\", mempool.total_bytes())\n",
        "    mempool.free_all_blocks()\n",
        "    pinned_mempool.free_all_blocks()          \n",
        "    print(\"_total_bytes_after\", mempool.total_bytes())  "
      ],
      "execution_count": 7,
      "outputs": []
    },
    {
      "cell_type": "code",
      "metadata": {
        "id": "RGdtEleAayvp",
        "colab_type": "code",
        "colab": {}
      },
      "source": [
        "no_debug = 1\n",
        "basic_debug_mode = 2\n",
        "super_debug_mode = 3\n",
        "only_interesting = 5\n",
        "DEBUG_MODE = only_interesting"
      ],
      "execution_count": 8,
      "outputs": []
    },
    {
      "cell_type": "code",
      "metadata": {
        "id": "J0G2Xf-AR6LJ",
        "colab_type": "code",
        "colab": {}
      },
      "source": [
        "def generate_population():\n",
        "    #300 - liczebnosc populacji\n",
        "    raise exception(\"NEI WOLNO\")\n",
        "    mario_net = Neural_Network([('linear',(300, 28*28, 10))])\n",
        "    mario_net_sigmas = sigmas_Mario_net([('linear',(300, 28*28, 10))])\n",
        "    return (mario_net, mario_net_sigmas)\n",
        "\n",
        "def best_population(population, population_scores, sigmas, population_size = 200000, children_size = 200000):\n",
        "    if DEBUG_MODE % basic_debug_mode == 0:\n",
        "      print(\"__best_population_start\")\n",
        "    population_size = population.layers[0][1].shape[0]\n",
        "    children_size = population_size\n",
        "    #population.move_to_cpu()\n",
        "    new_marionet = Neural_Network([('linear',(population_size, 32 * 32 * 3, 10))])\n",
        "    new_sigmas = sigmas_Mario_net([('linear',(population_size, 32 * 32 * 3, 10))])\n",
        "    #new_marionet.move_to_cpu()\n",
        "    for i in range(children_size):\n",
        "        #participants = cp.random.choice( a = population_size, size = 2, replace = False)\n",
        "        #chosen_one = cp.argmax(population_scores[participants])\n",
        "        chosen_one = cp.argmax(population_scores)\n",
        "        new_marionet.replace_individual(i, population.get_individual(chosen_one))\n",
        "        new_sigmas.replace_individual(i, sigmas.get_individual(chosen_one))\n",
        "    if DEBUG_MODE % basic_debug_mode == 0:\n",
        "      print(\"__best_population_stop\")\n",
        "    return new_marionet, new_sigmas\n",
        "\n",
        "def mutate_population(parents, sigmas, mutation_parameter_individual, mutation_parameter_coordinate):\n",
        "    if DEBUG_MODE % basic_debug_mode == 0:\n",
        "      print(\"__mutate_population_start\")\n",
        "    sigmas.mutate(mutation_parameter_individual, mutation_parameter_coordinate)\n",
        "    parents.mutate(sigmas)\n",
        "    if DEBUG_MODE % basic_debug_mode == 0:\n",
        "      print(\"__mutate_population_stop\")\n",
        "    return parents, sigmas\n",
        "\n",
        "def gen_new_population(population, population_sigmas, children, children_sigmas, population_scores, children_scores):\n",
        "    if DEBUG_MODE % basic_debug_mode == 0:\n",
        "      print(\"__gen_new_population_start\")\n",
        "    population_size = population.layers[0][1].shape[0]\n",
        "    population_argsorted_scores = cp.argsort(-population_scores)\n",
        "    children_argsorted_scores = cp.argsort(-children_scores)\n",
        "    new_population = Neural_Network([('linear',(population_size, 32 * 32 * 3, 10))])\n",
        "    new_sigmas = sigmas_Mario_net([('linear',(population_size, 32 * 32 * 3, 10))])\n",
        "    new_scores = cp.zeros(population_size, dtype = cp.float32)\n",
        "\n",
        "    population_pointer = 0 \n",
        "    children_pointer = 0\n",
        "\n",
        "    for i in range(population_size):\n",
        "        if population_scores[population_argsorted_scores[population_pointer]] > children_scores[children_argsorted_scores[children_pointer]]:\n",
        "            new_population.replace_individual(i, population.get_individual(population_argsorted_scores[population_pointer]))\n",
        "            new_sigmas.replace_individual(i, population_sigmas.get_individual(population_argsorted_scores[population_pointer]))\n",
        "            new_scores[i] = population_scores[population_argsorted_scores[population_pointer]]\n",
        "            population_pointer+=1\n",
        "        else:\n",
        "            new_population.replace_individual(i, children.get_individual(children_argsorted_scores[children_pointer]))\n",
        "            new_sigmas.replace_individual(i, children_sigmas.get_individual(children_argsorted_scores[children_pointer]))\n",
        "            new_scores[i] = children_scores[children_argsorted_scores[children_pointer]]\n",
        "            children_pointer+=1    \n",
        "\n",
        "  \n",
        "    #new_population.move_to_gpu()\n",
        "    if DEBUG_MODE % basic_debug_mode == 0:\n",
        "      print(\"__gen_new_population_stop\")\n",
        "    return new_population, new_sigmas, new_scores\n",
        "\n",
        "def ES(population, sigmas, train_ds, iter_num=2, mutation_parameter_individual=.0001, mutation_parameter_coordinate=.0001):\n",
        "    global best_indivudal_cupy\n",
        "    population_size = population.layers[0][1].shape[0]\n",
        "    children_size = population_size\n",
        "    population_scores = evaluate_population(population, train_ds)\n",
        "    best_results = []\n",
        "    mean_results = []\n",
        "    min_results = []\n",
        "\n",
        "    sigmas_maxes = []\n",
        "    sigmas_mins = []\n",
        "    sigmas_means = []\n",
        "\n",
        "    children_maxes = []\n",
        "    children_mins = []\n",
        "    children_means = []\n",
        "    children_diff_from_best = []\n",
        "\n",
        "\n",
        "    best_results.append(cp.max(population_scores))\n",
        "    mean_results.append(cp.mean(population_scores))\n",
        "    min_results.append(cp.min(population_scores))\n",
        "    \n",
        "    for i in range(iter_num):\n",
        "        parents, parents_sigmas = best_population(population, population_scores, sigmas)\n",
        "        children, children_sigmas = mutate_population(parents, sigmas, mutation_parameter_individual, mutation_parameter_coordinate)\n",
        "        #children.move_to_gpu()\n",
        "        cuda_memory_clear()\n",
        "        children_scores = evaluate_population(children, train_ds)\n",
        "        clear_output()\n",
        "        print(\"BEST CHILDREN RESULT \", cp.max(children_scores))\n",
        "        best_results.append(cp.max(children_scores))\n",
        "        mean_results.append(cp.mean(children_scores))\n",
        "        min_results.append(cp.min(children_scores))\n",
        "\n",
        "        children_maxes.append(cp.max(population.layers[0][1][0]))\n",
        "        children_mins.append(cp.min(population.layers[0][1][0]))\n",
        "        children_means.append(cp.mean(population.layers[0][1][0]))\n",
        "        children_diff_from_best.append(cp.mean(cp.abs(population.layers[0][1][0] - best_indivudal_cupy)))\n",
        "\n",
        "        sigmas_maxes.append(cp.max(sigmas.layers_sigmas[0][1][0]))\n",
        "        sigmas_mins.append(cp.min(sigmas.layers_sigmas[0][1][0]))\n",
        "        sigmas_means.append(cp.mean(sigmas.layers_sigmas[0][1][0]))\n",
        "\n",
        "\n",
        "        fig, axes = plt.subplots(2,2, figsize = (14,10))\n",
        "        axes[0][0].plot(np.array(best_results), color = 'r')\n",
        "        axes[0][0].plot(np.array(mean_results), color = 'g')\n",
        "        axes[0][0].plot(np.array(min_results),  color  = 'b')\n",
        "        axes[0][0].grid(True)\n",
        "        axes[0][0].set_title('Results:')\n",
        "\n",
        "\n",
        "        axes[0][1].plot(np.array(children_maxes), color = 'r')\n",
        "        axes[0][1].plot(np.array(children_mins), color = 'g')\n",
        "        axes[0][1].plot(np.array(children_means),  color  = 'b')\n",
        "        axes[0][0].grid(True)\n",
        "        axes[0][1].set_title('Weights:')\n",
        "\n",
        "        #axes[1][0].plot(np.array(sigmas_maxes), color = 'r')\n",
        "        axes[1][0].plot(np.array(sigmas_mins), color = 'g')\n",
        "        axes[1][0].plot(np.array(sigmas_means),  color  = 'b')\n",
        "        axes[0][0].grid(True)\n",
        "        axes[1][0].set_title(\"Sigmas weights:\")\n",
        "\n",
        "        axes[1][1].plot(np.array(children_diff_from_best), color = 'r')\n",
        "        axes[0][0].grid(True)\n",
        "        axes[1][1].set_title('Distance from classically trained network')\n",
        "        fig.tight_layout()\n",
        "        plt.show()\n",
        "        \n",
        "\n",
        "        #population.move_to_gpu()\n",
        "        #children.move_to_gpu()\n",
        "        cuda_memory_clear()\n",
        "        population, sigmas, population_scores = gen_new_population(population, sigmas, children, children_sigmas, population_scores, children_scores)\n",
        "        cuda_memory_clear()\n",
        "    return population, sigmas\n",
        "    #return kozak_scores, mean_scores, worst_scores\n",
        "\n",
        "\n",
        "def brute_dot(temp, lin):\n",
        "    ret_temp = cp.zeros((temp.shape[0], lin.shape[2]))\n",
        "    for i in range(temp.shape[0]):\n",
        "        ret_temp[i] = cp.dot(temp[i], lin[i])\n",
        "    return ret_temp\n",
        "\n",
        "\n",
        "def evaluate_population(population, train_ds):\n",
        "    create_input_time = 0\n",
        "    preds_time = 0\n",
        "    points_count_time = 0\n",
        "    j  = 0\n",
        "    if DEBUG_MODE % basic_debug_mode == 0:\n",
        "      print(\"___EVALUATE_POPULATION_START\")\n",
        "    #scores = np.zeros(population.layers[0][1].shape[0], dtype = np.uint32)\n",
        "    scores = cp.zeros(population.layers[0][1].shape[0], dtype = cp.uint32)\n",
        "    for image, label in zip(cp.array(train_ds['image']), cp.array(train_ds['label'])):\n",
        "        start = time.time()\n",
        "        image = image.flatten()\n",
        "        create_input_time += time.time() - start\n",
        "        start = time.time()\n",
        "        preds = population.forward(image)\n",
        "        preds_time += time.time() - start\n",
        "        start = time.time()\n",
        "        #scores += cp.asnumpy(preds == label)\n",
        "        scores += preds == label\n",
        "        points_count_time += time.time() - start\n",
        "        j += 1\n",
        "      \n",
        "    if DEBUG_MODE % basic_debug_mode == 0:\n",
        "      print(\"___EVALUATE_POPULATION_STOP\", \"create_input_time: \", create_input_time, \"preds_time:\", preds_time,\n",
        "          \"points_count_time: \", points_count_time, \"\\n best result: \", np.max(cp.asnumpy( scores)),\n",
        "          \"mean socre: \", np.mean(cp.asnumpy( scores)), \"min score: \", np.min(cp.asnumpy( scores))) \n",
        "    if DEBUG_MODE % only_interesting == 0:\n",
        "      print(\"best result: \", np.max(cp.asnumpy( scores)), \"mean socre: \", np.mean(cp.asnumpy( scores)), \"min score: \", np.min(cp.asnumpy( scores)))\n",
        "\n",
        "    return scores"
      ],
      "execution_count": 9,
      "outputs": []
    },
    {
      "cell_type": "code",
      "metadata": {
        "id": "2KLahkGJYH2S",
        "colab_type": "code",
        "colab": {}
      },
      "source": [
        "POPULATION_SIZE = 3000\n",
        "#input size do zmiany\n",
        "population = Neural_Network(POPULATION_SIZE,  (32*32, 3), [['linear', 10, [1.,1.]]])\n",
        "sigmas = Sigmas_Neural_Network(POPULATION_SIZE,  (32*32, 3), [['linear', 10, [1.,1.]]])"
      ],
      "execution_count": null,
      "outputs": []
    },
    {
      "cell_type": "code",
      "metadata": {
        "id": "Y6SmN-lZSUu_",
        "colab_type": "code",
        "colab": {}
      },
      "source": [
        "train_ds_mnist = tfds.load(\"cifar10\", split = \"train\", shuffle_files=True, batch_size=-1)\n",
        "test_ds_mnist = tfds.load(\"cifar10\", split = \"test\", shuffle_files=True, batch_size=-1)\n",
        "\n",
        "train_ds_mnist = tfds.as_numpy(train_ds_mnist)\n",
        "test_ds_mnist = tfds.as_numpy(test_ds_mnist)\n",
        "\n",
        "train_ds_mnist = {\"image\" : cp.array(train_ds_mnist[\"image\"]/255., dtype=cp.float32), \"label\" : cp.array(train_ds_mnist[\"label\"]) }\n",
        "test_ds_mnist = {\"image\" : cp.array(test_ds_mnist[\"image\"]/255., dtype=cp.float32), \"label\" : cp.array(test_ds_mnist[\"label\"]) }"
      ],
      "execution_count": 22,
      "outputs": []
    },
    {
      "cell_type": "code",
      "metadata": {
        "id": "qC4DvHDvSbyJ",
        "colab_type": "code",
        "colab": {}
      },
      "source": [
        "!nvidia-smi"
      ],
      "execution_count": null,
      "outputs": []
    },
    {
      "cell_type": "code",
      "metadata": {
        "id": "5LaYsbhDW0fB",
        "colab_type": "code",
        "colab": {}
      },
      "source": [
        "#cifar\n",
        "#sigmas = sigmas_Mario_net([('linear',(POPULATION_SIZE, 32*32*3, 10))])\n",
        "print(sigmas.layers_sigmas[0][1].mean())\n",
        "K = 16.\n",
        "d = 32 * 32 * 3 * 10\n",
        "mutation_parameter_individual = K / np.sqrt(2 * np.sqrt(d))\n",
        "mutation_parameter_coordinate = K / np.sqrt(2 * d)\n",
        "#kozak_scores, mean_scores, worst_scores = ES(population, sigmas, train_ds_mnist, iter_num=2000, mutation_parameter_individual=mutation_parameter_individual, mutation_parameter_coordinate=mutation_parameter_coordinate)\n",
        "population, sigmas = ES(population, sigmas, train_ds_mnist, iter_num=40, mutation_parameter_individual=mutation_parameter_individual, mutation_parameter_coordinate=mutation_parameter_coordinate)"
      ],
      "execution_count": null,
      "outputs": []
    }
  ]
}